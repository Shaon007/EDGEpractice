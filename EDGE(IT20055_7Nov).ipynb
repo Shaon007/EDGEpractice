{
  "nbformat": 4,
  "nbformat_minor": 0,
  "metadata": {
    "colab": {
      "provenance": [],
      "authorship_tag": "ABX9TyOsQ0rMPTA6B8mcP/Nbp/Fk",
      "include_colab_link": true
    },
    "kernelspec": {
      "name": "python3",
      "display_name": "Python 3"
    },
    "language_info": {
      "name": "python"
    }
  },
  "cells": [
    {
      "cell_type": "markdown",
      "metadata": {
        "id": "view-in-github",
        "colab_type": "text"
      },
      "source": [
        "<a href=\"https://colab.research.google.com/github/Shaon007/EDGEpractice-IT20055/blob/main/EDGE(IT20055_7Nov).ipynb\" target=\"_parent\"><img src=\"https://colab.research.google.com/assets/colab-badge.svg\" alt=\"Open In Colab\"/></a>"
      ]
    },
    {
      "cell_type": "code",
      "execution_count": 3,
      "metadata": {
        "id": "dkxtNdWQQbuW"
      },
      "outputs": [],
      "source": [
        "\n",
        "from test711 import print_pi_to_n_digits\n",
        "print_pi_to_n_digits(int(input(\"Enter an integer: \")))"
      ]
    },
    {
      "cell_type": "code",
      "source": [
        "import pandas as pd\n",
        "pd.DataFrame ([print_pi_to_n_digits(int(i)) for i in pd.read_csv(\"input.csv\")],columns=['pi']).to_csv(\"output.csv\")\n",
        "\n"
      ],
      "metadata": {
        "colab": {
          "base_uri": "https://localhost:8080/"
        },
        "id": "kfMETBqcSuy3",
        "outputId": "20c48fc8-e934-438d-cf33-6e29f584885a"
      },
      "execution_count": 15,
      "outputs": [
        {
          "output_type": "stream",
          "name": "stdout",
          "text": [
            "None\n"
          ]
        }
      ]
    },
    {
      "cell_type": "code",
      "source": [],
      "metadata": {
        "id": "c-kGifuhTIWc"
      },
      "execution_count": null,
      "outputs": []
    }
  ]
}